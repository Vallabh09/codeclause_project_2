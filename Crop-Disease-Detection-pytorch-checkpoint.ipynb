{
 "cells": [
  {
   "cell_type": "code",
   "execution_count": 1,
   "id": "bd4d269c",
   "metadata": {},
   "outputs": [
    {
     "name": "stdout",
     "output_type": "stream",
     "text": [
      "Requirement already satisfied: opencv-python in c:\\users\\valla\\anaconda3\\lib\\site-packages (4.9.0.80)\n",
      "Requirement already satisfied: numpy>=1.21.2 in c:\\users\\valla\\anaconda3\\lib\\site-packages (from opencv-python) (1.24.3)\n"
     ]
    }
   ],
   "source": [
    "!pip install opencv-python"
   ]
  },
  {
   "cell_type": "code",
   "execution_count": 2,
   "id": "82c37ebd",
   "metadata": {},
   "outputs": [],
   "source": [
    "import zipfile\n",
    "import requests\n",
    "import cv2\n",
    "import matplotlib.pyplot as plt\n",
    "import re\n",
    "import numpy as np\n",
    "import math\n",
    "import os"
   ]
  },
  {
   "cell_type": "code",
   "execution_count": 3,
   "id": "bafdd330",
   "metadata": {},
   "outputs": [],
   "source": [
    "URL = 'https://data.mendeley.com/public-files/datasets/tywbtsjrjv/files/d5652a28-c1d8-4b76-97f3-72fb80f94efc/file_downloaded'\n",
    "response = requests.get(URL)"
   ]
  },
  {
   "cell_type": "code",
   "execution_count": 4,
   "id": "7a2fc117",
   "metadata": {},
   "outputs": [],
   "source": [
    "store_ds_path = ''\n",
    "fname = os.path.join(store_ds_path, 'data.zip')\n",
    "with open(fname, 'wb') as f:\n",
    "    f.write(response.content)"
   ]
  },
  {
   "cell_type": "code",
   "execution_count": 5,
   "id": "47033b0e",
   "metadata": {},
   "outputs": [],
   "source": [
    "with zipfile.ZipFile(fname, 'r') as f:\n",
    "    f.extractall()"
   ]
  },
  {
   "cell_type": "code",
   "execution_count": 63,
   "id": "afb8ed1e",
   "metadata": {},
   "outputs": [],
   "source": [
    "def loader(path):\n",
    "    im = cv2.imread(path)\n",
    "    return im"
   ]
  },
  {
   "cell_type": "code",
   "execution_count": 64,
   "id": "8c56b050",
   "metadata": {},
   "outputs": [
    {
     "name": "stdout",
     "output_type": "stream",
     "text": [
      "Requirement already satisfied: torchvision in c:\\users\\valla\\anaconda3\\lib\\site-packages (0.17.1)\n",
      "Requirement already satisfied: numpy in c:\\users\\valla\\anaconda3\\lib\\site-packages (from torchvision) (1.24.3)\n",
      "Requirement already satisfied: torch==2.2.1 in c:\\users\\valla\\anaconda3\\lib\\site-packages (from torchvision) (2.2.1)\n",
      "Requirement already satisfied: pillow!=8.3.*,>=5.3.0 in c:\\users\\valla\\anaconda3\\lib\\site-packages (from torchvision) (9.4.0)\n",
      "Requirement already satisfied: filelock in c:\\users\\valla\\anaconda3\\lib\\site-packages (from torch==2.2.1->torchvision) (3.9.0)\n",
      "Requirement already satisfied: typing-extensions>=4.8.0 in c:\\users\\valla\\anaconda3\\lib\\site-packages (from torch==2.2.1->torchvision) (4.10.0)\n",
      "Requirement already satisfied: sympy in c:\\users\\valla\\anaconda3\\lib\\site-packages (from torch==2.2.1->torchvision) (1.11.1)\n",
      "Requirement already satisfied: networkx in c:\\users\\valla\\anaconda3\\lib\\site-packages (from torch==2.2.1->torchvision) (3.1)\n",
      "Requirement already satisfied: jinja2 in c:\\users\\valla\\anaconda3\\lib\\site-packages (from torch==2.2.1->torchvision) (3.1.2)\n",
      "Requirement already satisfied: fsspec in c:\\users\\valla\\anaconda3\\lib\\site-packages (from torch==2.2.1->torchvision) (2023.3.0)\n",
      "Requirement already satisfied: MarkupSafe>=2.0 in c:\\users\\valla\\anaconda3\\lib\\site-packages (from jinja2->torch==2.2.1->torchvision) (2.1.1)\n",
      "Requirement already satisfied: mpmath>=0.19 in c:\\users\\valla\\anaconda3\\lib\\site-packages (from sympy->torch==2.2.1->torchvision) (1.3.0)\n"
     ]
    }
   ],
   "source": [
    "!pip install torchvision\n",
    "import torchvision\n",
    "from torchvision import models, datasets, transforms\n",
    "\n",
    "path = os.path.join(store_ds_path,'Plant_leave_diseases_dataset_without_augmentation')\n",
    "def resize_image(x):\n",
    "    return cv2.resize(x, (150, 150))\n",
    "\n",
    "# Define the transformation pipeline without using lambda functions\n",
    "tfms = transforms.Compose([\n",
    "    resize_image,  # Use the custom function to resize images\n",
    "    transforms.ToTensor(),\n",
    "    transforms.ColorJitter(brightness=0.4, contrast=0, saturation=0, hue=0),\n",
    "    transforms.RandomHorizontalFlip(),\n",
    "    transforms.RandomVerticalFlip(),\n",
    "    transforms.RandomAffine(\n",
    "        degrees=(0, 360),\n",
    "        translate=(0.1, 0.1),\n",
    "        scale=(0.5, 1)\n",
    "    )\n",
    "])\n"
   ]
  },
  {
   "cell_type": "code",
   "execution_count": 65,
   "id": "6c21e7df",
   "metadata": {},
   "outputs": [],
   "source": [
    "ds = datasets.ImageFolder(path, loader=loader, transform=tfms)"
   ]
  },
  {
   "cell_type": "code",
   "execution_count": 66,
   "id": "e12adeba",
   "metadata": {},
   "outputs": [],
   "source": [
    "def beautify_labels(label):\n",
    "    bucket = re.findall(r'[^,_() ]+', label)[:3]\n",
    "    bucket = [x.capitalize() for x in bucket]\n",
    "    return ''.join(bucket)"
   ]
  },
  {
   "cell_type": "code",
   "execution_count": 67,
   "id": "bfeda792",
   "metadata": {},
   "outputs": [],
   "source": [
    "label_names = list(map(beautify_labels, ds.classes))"
   ]
  },
  {
   "cell_type": "code",
   "execution_count": 68,
   "id": "3d49500c",
   "metadata": {},
   "outputs": [],
   "source": [
    "label2idx = {key: val for val, key in enumerate(label_names)}\n",
    "idx2label = {val: key for key, val in label2idx.items()}"
   ]
  },
  {
   "cell_type": "code",
   "execution_count": 69,
   "id": "7ab00a02",
   "metadata": {},
   "outputs": [],
   "source": [
    "import torch\n",
    "train_ds, val_ds, test_ds  = torch.utils.data.random_split(ds, (45448, 5000, 5000))"
   ]
  },
  {
   "cell_type": "markdown",
   "id": "f65565a9",
   "metadata": {},
   "source": [
    "#Traning DATA"
   ]
  },
  {
   "cell_type": "code",
   "execution_count": 70,
   "id": "e9302b1d",
   "metadata": {},
   "outputs": [
    {
     "name": "stdout",
     "output_type": "stream",
     "text": [
      "Requirement already satisfied: tensorboard in c:\\users\\valla\\anaconda3\\lib\\site-packages (2.16.2)\n",
      "Requirement already satisfied: absl-py>=0.4 in c:\\users\\valla\\anaconda3\\lib\\site-packages (from tensorboard) (2.1.0)\n",
      "Requirement already satisfied: grpcio>=1.48.2 in c:\\users\\valla\\anaconda3\\lib\\site-packages (from tensorboard) (1.62.1)\n",
      "Requirement already satisfied: markdown>=2.6.8 in c:\\users\\valla\\anaconda3\\lib\\site-packages (from tensorboard) (3.4.1)\n",
      "Requirement already satisfied: numpy>=1.12.0 in c:\\users\\valla\\anaconda3\\lib\\site-packages (from tensorboard) (1.24.3)\n",
      "Requirement already satisfied: protobuf!=4.24.0,>=3.19.6 in c:\\users\\valla\\anaconda3\\lib\\site-packages (from tensorboard) (5.26.0)\n",
      "Requirement already satisfied: setuptools>=41.0.0 in c:\\users\\valla\\anaconda3\\lib\\site-packages (from tensorboard) (68.0.0)\n",
      "Requirement already satisfied: six>1.9 in c:\\users\\valla\\anaconda3\\lib\\site-packages (from tensorboard) (1.16.0)\n",
      "Requirement already satisfied: tensorboard-data-server<0.8.0,>=0.7.0 in c:\\users\\valla\\anaconda3\\lib\\site-packages (from tensorboard) (0.7.2)\n",
      "Requirement already satisfied: werkzeug>=1.0.1 in c:\\users\\valla\\anaconda3\\lib\\site-packages (from tensorboard) (2.2.3)\n",
      "Requirement already satisfied: MarkupSafe>=2.1.1 in c:\\users\\valla\\anaconda3\\lib\\site-packages (from werkzeug>=1.0.1->tensorboard) (2.1.1)\n",
      "Requirement already satisfied: tensorboardX in c:\\users\\valla\\anaconda3\\lib\\site-packages (2.6.2.2)\n",
      "Requirement already satisfied: numpy in c:\\users\\valla\\anaconda3\\lib\\site-packages (from tensorboardX) (1.24.3)\n",
      "Requirement already satisfied: packaging in c:\\users\\valla\\anaconda3\\lib\\site-packages (from tensorboardX) (23.0)\n",
      "Requirement already satisfied: protobuf>=3.20 in c:\\users\\valla\\anaconda3\\lib\\site-packages (from tensorboardX) (5.26.0)\n"
     ]
    }
   ],
   "source": [
    "!pip install tensorboard\n",
    "!pip install tensorboardX"
   ]
  },
  {
   "cell_type": "code",
   "execution_count": 71,
   "id": "393bb1e7",
   "metadata": {},
   "outputs": [
    {
     "name": "stdout",
     "output_type": "stream",
     "text": [
      "Requirement already satisfied: pytorch-lightning in c:\\users\\valla\\anaconda3\\lib\\site-packages (2.2.1)\n",
      "Requirement already satisfied: numpy>=1.17.2 in c:\\users\\valla\\anaconda3\\lib\\site-packages (from pytorch-lightning) (1.24.3)\n",
      "Requirement already satisfied: torch>=1.13.0 in c:\\users\\valla\\anaconda3\\lib\\site-packages (from pytorch-lightning) (2.2.1)\n",
      "Requirement already satisfied: tqdm>=4.57.0 in c:\\users\\valla\\anaconda3\\lib\\site-packages (from pytorch-lightning) (4.65.0)\n",
      "Requirement already satisfied: PyYAML>=5.4 in c:\\users\\valla\\anaconda3\\lib\\site-packages (from pytorch-lightning) (6.0)\n",
      "Requirement already satisfied: fsspec[http]>=2022.5.0 in c:\\users\\valla\\anaconda3\\lib\\site-packages (from pytorch-lightning) (2023.3.0)\n",
      "Requirement already satisfied: torchmetrics>=0.7.0 in c:\\users\\valla\\anaconda3\\lib\\site-packages (from pytorch-lightning) (1.3.2)\n",
      "Requirement already satisfied: packaging>=20.0 in c:\\users\\valla\\anaconda3\\lib\\site-packages (from pytorch-lightning) (23.0)\n",
      "Requirement already satisfied: typing-extensions>=4.4.0 in c:\\users\\valla\\anaconda3\\lib\\site-packages (from pytorch-lightning) (4.10.0)\n",
      "Requirement already satisfied: lightning-utilities>=0.8.0 in c:\\users\\valla\\anaconda3\\lib\\site-packages (from pytorch-lightning) (0.11.1)\n",
      "Requirement already satisfied: requests in c:\\users\\valla\\anaconda3\\lib\\site-packages (from fsspec[http]>=2022.5.0->pytorch-lightning) (2.31.0)\n",
      "Requirement already satisfied: aiohttp!=4.0.0a0,!=4.0.0a1 in c:\\users\\valla\\anaconda3\\lib\\site-packages (from fsspec[http]>=2022.5.0->pytorch-lightning) (3.8.3)\n",
      "Requirement already satisfied: setuptools in c:\\users\\valla\\anaconda3\\lib\\site-packages (from lightning-utilities>=0.8.0->pytorch-lightning) (68.0.0)\n",
      "Requirement already satisfied: filelock in c:\\users\\valla\\anaconda3\\lib\\site-packages (from torch>=1.13.0->pytorch-lightning) (3.9.0)\n",
      "Requirement already satisfied: sympy in c:\\users\\valla\\anaconda3\\lib\\site-packages (from torch>=1.13.0->pytorch-lightning) (1.11.1)\n",
      "Requirement already satisfied: networkx in c:\\users\\valla\\anaconda3\\lib\\site-packages (from torch>=1.13.0->pytorch-lightning) (3.1)\n",
      "Requirement already satisfied: jinja2 in c:\\users\\valla\\anaconda3\\lib\\site-packages (from torch>=1.13.0->pytorch-lightning) (3.1.2)\n",
      "Requirement already satisfied: colorama in c:\\users\\valla\\anaconda3\\lib\\site-packages (from tqdm>=4.57.0->pytorch-lightning) (0.4.6)\n",
      "Requirement already satisfied: attrs>=17.3.0 in c:\\users\\valla\\anaconda3\\lib\\site-packages (from aiohttp!=4.0.0a0,!=4.0.0a1->fsspec[http]>=2022.5.0->pytorch-lightning) (22.1.0)\n",
      "Requirement already satisfied: charset-normalizer<3.0,>=2.0 in c:\\users\\valla\\anaconda3\\lib\\site-packages (from aiohttp!=4.0.0a0,!=4.0.0a1->fsspec[http]>=2022.5.0->pytorch-lightning) (2.0.4)\n",
      "Requirement already satisfied: multidict<7.0,>=4.5 in c:\\users\\valla\\anaconda3\\lib\\site-packages (from aiohttp!=4.0.0a0,!=4.0.0a1->fsspec[http]>=2022.5.0->pytorch-lightning) (6.0.2)\n",
      "Requirement already satisfied: async-timeout<5.0,>=4.0.0a3 in c:\\users\\valla\\anaconda3\\lib\\site-packages (from aiohttp!=4.0.0a0,!=4.0.0a1->fsspec[http]>=2022.5.0->pytorch-lightning) (4.0.2)\n",
      "Requirement already satisfied: yarl<2.0,>=1.0 in c:\\users\\valla\\anaconda3\\lib\\site-packages (from aiohttp!=4.0.0a0,!=4.0.0a1->fsspec[http]>=2022.5.0->pytorch-lightning) (1.8.1)\n",
      "Requirement already satisfied: frozenlist>=1.1.1 in c:\\users\\valla\\anaconda3\\lib\\site-packages (from aiohttp!=4.0.0a0,!=4.0.0a1->fsspec[http]>=2022.5.0->pytorch-lightning) (1.3.3)\n",
      "Requirement already satisfied: aiosignal>=1.1.2 in c:\\users\\valla\\anaconda3\\lib\\site-packages (from aiohttp!=4.0.0a0,!=4.0.0a1->fsspec[http]>=2022.5.0->pytorch-lightning) (1.2.0)\n",
      "Requirement already satisfied: MarkupSafe>=2.0 in c:\\users\\valla\\anaconda3\\lib\\site-packages (from jinja2->torch>=1.13.0->pytorch-lightning) (2.1.1)\n",
      "Requirement already satisfied: idna<4,>=2.5 in c:\\users\\valla\\anaconda3\\lib\\site-packages (from requests->fsspec[http]>=2022.5.0->pytorch-lightning) (3.4)\n",
      "Requirement already satisfied: urllib3<3,>=1.21.1 in c:\\users\\valla\\anaconda3\\lib\\site-packages (from requests->fsspec[http]>=2022.5.0->pytorch-lightning) (1.26.16)\n",
      "Requirement already satisfied: certifi>=2017.4.17 in c:\\users\\valla\\anaconda3\\lib\\site-packages (from requests->fsspec[http]>=2022.5.0->pytorch-lightning) (2023.7.22)\n",
      "Requirement already satisfied: mpmath>=0.19 in c:\\users\\valla\\anaconda3\\lib\\site-packages (from sympy->torch>=1.13.0->pytorch-lightning) (1.3.0)\n"
     ]
    }
   ],
   "source": [
    "!pip install pytorch-lightning\n",
    "\n",
    "import torch\n",
    "import torch.nn as nn\n",
    "import torch.nn.functional as F\n",
    "import torch.optim as optim\n",
    "import torch.utils.data as data\n",
    "import torchvision\n",
    "from torchvision import models, datasets, transforms\n",
    "import pytorch_lightning as pl\n",
    "import torchmetrics as tm\n",
    "from pytorch_lightning.callbacks import ModelCheckpoint, EarlyStopping, LearningRateMonitor, Callback\n",
    "from pytorch_lightning.loggers import TensorBoardLogger"
   ]
  },
  {
   "cell_type": "code",
   "execution_count": null,
   "id": "b6a38e6b",
   "metadata": {},
   "outputs": [],
   "source": [
    "\n",
    "class Model(pl.LightningModule):\n",
    "    def __init__(self):\n",
    "        super().__init__()\n",
    "        self.model = models.resnet18(num_classes=39)\n",
    "        self.accuracy = tm.Accuracy(task='multiclass', num_classes=39)\n",
    "        self.loss_func = nn.CrossEntropyLoss()\n",
    "\n",
    "    def forward(self, x):\n",
    "        out = self.model(x)\n",
    "        return out\n",
    "        \n",
    "    def training_step(self, batch, batch_idx):\n",
    "        data, label = batch\n",
    "        out = self(data)\n",
    "        acc = self.accuracy(out, label)\n",
    "        loss = self.loss_func(out, label)\n",
    "        self.log('Loss/train', loss)\n",
    "        self.log('Accuracy/train', acc)\n",
    "        return loss\n",
    "\n",
    "    def validation_step(self, batch, batch_idx):\n",
    "        data, label = batch\n",
    "        out = self(data)\n",
    "        acc = self.accuracy(out, label)\n",
    "        loss = self.loss_func(out, label)\n",
    "        self.log('Loss/val', loss)\n",
    "        self.log('Accuracy/val', acc)\n",
    "        return loss\n",
    "\n",
    "    def predict_step(self, batch, batch_idx):\n",
    "        data, label = batch\n",
    "        out = self(data)\n",
    "        _, idx = torch.max(out, dim=1)\n",
    "        return idx\n",
    "\n",
    "    def test_step(self, batch, batch_idx):\n",
    "        data, label = batch\n",
    "        out = self(data)\n",
    "        acc = self.accuracy(out, label)\n",
    "        loss = self.loss_func(out, label)\n",
    "        self.log('Loss/test', loss)\n",
    "        self.log('Accuracy/test', acc)\n",
    "        return loss\n",
    "\n",
    "    def configure_optimizers(self):\n",
    "        optimizer = optim.SGD(self.parameters(), lr=3e-3, weight_decay=0) # wd = 3e-3\n",
    "        steps_per_epoch = math.ceil(len(train_ds)/64)\n",
    "        scheduler = {\"scheduler\": optim.lr_scheduler.OneCycleLR(optimizer, max_lr=1e-2, epochs=10, steps_per_epoch=steps_per_epoch),\"interval\": \"step\",\"frequency\": 1,}\n",
    "        return [optimizer], [scheduler]\n",
    "\n",
    "    def train_dataloader(self):\n",
    "        train_dl = torch.utils.data.DataLoader(train_ds, shuffle=True, batch_size=64, num_workers=2)\n",
    "        return train_dl\n",
    "\n",
    "    def val_dataloader(self):\n",
    "        val_dl = torch.utils.data.DataLoader(val_ds, batch_size=64, num_workers=2)\n",
    "        return val_dl\n",
    "\n",
    "    def test_dataloader(self):\n",
    "        test_dl = torch.utils.data.DataLoader(test_ds, batch_size=64, num_workers=2)\n",
    "        return test_dl\n",
    "\n",
    "model = Model()\n",
    "\n",
    "logger = pl.loggers.TensorBoardLogger('lightning_logs', name='baseline-resnet18')\n",
    "trainer = pl.Trainer(accelerator = \"auto\", logger=logger,max_epochs=10, profiler='simple',callbacks=[ModelCheckpoint(save_weights_only=True, mode=\"min\", monitor=\"Loss/val\"), LearningRateMonitor(\"step\")])\n",
    "\n",
    "trainer.fit(model)"
   ]
  },
  {
   "cell_type": "code",
   "execution_count": null,
   "id": "a0f5164e",
   "metadata": {},
   "outputs": [],
   "source": []
  }
 ],
 "metadata": {
  "kernelspec": {
   "display_name": "Python 3 (ipykernel)",
   "language": "python",
   "name": "python3"
  },
  "language_info": {
   "codemirror_mode": {
    "name": "ipython",
    "version": 3
   },
   "file_extension": ".py",
   "mimetype": "text/x-python",
   "name": "python",
   "nbconvert_exporter": "python",
   "pygments_lexer": "ipython3",
   "version": "3.11.4"
  }
 },
 "nbformat": 4,
 "nbformat_minor": 5
}
